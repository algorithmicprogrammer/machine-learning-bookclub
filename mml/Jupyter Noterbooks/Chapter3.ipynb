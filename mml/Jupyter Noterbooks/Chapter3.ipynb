{
 "nbformat": 4,
 "nbformat_minor": 0,
 "metadata": {
  "colab": {
   "provenance": []
  },
  "kernelspec": {
   "name": "python3",
   "display_name": "Python 3"
  },
  "language_info": {
   "name": "python"
  }
 },
 "cells": [
  {
   "metadata": {},
   "cell_type": "markdown",
   "source": "# Chapter 3: Analytic Geometry"
  },
  {
   "cell_type": "code",
   "execution_count": null,
   "metadata": {
    "id": "kdfp5MmZYNjG"
   },
   "outputs": [],
   "source": [
    "import numpy as np\n",
    "from matplotlib import pyplot as plt"
   ]
  },
  {
   "metadata": {},
   "cell_type": "markdown",
   "source": [
    "## Norms\n",
    "A norm refers to the notion of the length of vectors."
   ]
  },
  {
   "cell_type": "code",
   "source": [
    "#Norms\n",
    "def L1_norm(array):\n",
    "  return np.abs(array).sum()\n",
    "\n",
    "def L2_norm(array):\n",
    "  return np.sqrt(np.matmul(array, array.T))"
   ],
   "metadata": {
    "id": "uiMpaO86YPDs"
   },
   "execution_count": null,
   "outputs": []
  },
  {
   "cell_type": "code",
   "source": [
    "x = np.array([-2, -5])"
   ],
   "metadata": {
    "id": "P2Xa5hS9ZgRC"
   },
   "execution_count": null,
   "outputs": []
  },
  {
   "cell_type": "code",
   "source": [
    "L1_norm(x)"
   ],
   "metadata": {
    "colab": {
     "base_uri": "https://localhost:8080/"
    },
    "id": "FzGvy6GKZV_W",
    "outputId": "08831c32-17e9-43a7-d18c-3affdb30e0cc"
   },
   "execution_count": null,
   "outputs": [
    {
     "output_type": "execute_result",
     "data": {
      "text/plain": [
       "7"
      ]
     },
     "metadata": {},
     "execution_count": 29
    }
   ]
  },
  {
   "cell_type": "code",
   "source": [
    "L2_norm(x)"
   ],
   "metadata": {
    "colab": {
     "base_uri": "https://localhost:8080/"
    },
    "id": "7LLAe_hYZa5C",
    "outputId": "77149b7f-3928-40b4-edcf-894bea46afd1"
   },
   "execution_count": null,
   "outputs": [
    {
     "output_type": "execute_result",
     "data": {
      "text/plain": [
       "5.385164807134504"
      ]
     },
     "metadata": {},
     "execution_count": 30
    }
   ]
  },
  {
   "cell_type": "code",
   "source": [
    "#absolutely homogeneous\n",
    "3*L1_norm(x) == L1_norm(3*x)"
   ],
   "metadata": {
    "colab": {
     "base_uri": "https://localhost:8080/"
    },
    "id": "HnbjFMV5ZlOd",
    "outputId": "3f4083ef-f195-4ef9-9efc-292098e84e46"
   },
   "execution_count": null,
   "outputs": [
    {
     "output_type": "execute_result",
     "data": {
      "text/plain": [
       "True"
      ]
     },
     "metadata": {},
     "execution_count": 7
    }
   ]
  },
  {
   "cell_type": "code",
   "source": [
    "y = np.array([2, 5])"
   ],
   "metadata": {
    "id": "CgYktTALaR-v"
   },
   "execution_count": null,
   "outputs": []
  },
  {
   "cell_type": "code",
   "source": [
    "#Triangle inequality\n",
    "print(L1_norm(x) + L1_norm(y))\n",
    "print(L1_norm(x+y))\n",
    "print((L1_norm(x) + L1_norm(y)) >= L1_norm(x+y))"
   ],
   "metadata": {
    "colab": {
     "base_uri": "https://localhost:8080/"
    },
    "id": "pfzutUEsZ6as",
    "outputId": "ec3edc7a-3926-49bc-a039-be77d89ad42d"
   },
   "execution_count": null,
   "outputs": [
    {
     "output_type": "stream",
     "name": "stdout",
     "text": [
      "14\n",
      "0\n",
      "True\n"
     ]
    }
   ]
  },
  {
   "cell_type": "code",
   "source": [
    "x.T@y"
   ],
   "metadata": {
    "colab": {
     "base_uri": "https://localhost:8080/"
    },
    "id": "c1nUCoXXajjt",
    "outputId": "aedd7540-2399-4ae6-b2fb-fd1dc44bea9a"
   },
   "execution_count": null,
   "outputs": [
    {
     "output_type": "execute_result",
     "data": {
      "text/plain": [
       "-29"
      ]
     },
     "metadata": {},
     "execution_count": 34
    }
   ]
  },
  {
   "cell_type": "code",
   "source": [
    "np.dot(x, y)"
   ],
   "metadata": {
    "colab": {
     "base_uri": "https://localhost:8080/"
    },
    "id": "1DZdsavvut5H",
    "outputId": "5e527402-3f89-47ad-8c9c-f177dd86ed09"
   },
   "execution_count": null,
   "outputs": [
    {
     "output_type": "execute_result",
     "data": {
      "text/plain": [
       "-29"
      ]
     },
     "metadata": {},
     "execution_count": 35
    }
   ]
  },
  {
   "cell_type": "code",
   "source": [
    "total = 0\n",
    "for i in range(x.shape[0]):\n",
    "  total += x[i] * y[i]"
   ],
   "metadata": {
    "id": "IGj6ohWCuzZW"
   },
   "execution_count": null,
   "outputs": []
  },
  {
   "cell_type": "code",
   "source": [
    "print(total)"
   ],
   "metadata": {
    "colab": {
     "base_uri": "https://localhost:8080/"
    },
    "id": "HvlO5UkHu9eJ",
    "outputId": "85b29718-4b71-4e79-9d16-ac0b0403db8a"
   },
   "execution_count": null,
   "outputs": [
    {
     "output_type": "stream",
     "name": "stdout",
     "text": [
      "-29\n"
     ]
    }
   ]
  },
  {
   "cell_type": "code",
   "source": [
    "x = np.array([1, 1])\n",
    "y = np.array([4, 1])\n",
    "angle_in_radians = np.arccos(np.dot(x, y)/(L2_norm(x)*L2_norm(y)))\n",
    "print(angle_in_radians)\n",
    "angle_in_degrees = (180/np.pi)*angle_in_radians\n",
    "print(angle_in_degrees)"
   ],
   "metadata": {
    "colab": {
     "base_uri": "https://localhost:8080/"
    },
    "id": "EsyHUgcVu-gF",
    "outputId": "cfa698d6-6d53-4fc2-8305-0cb368dcc8a8"
   },
   "execution_count": null,
   "outputs": [
    {
     "output_type": "stream",
     "name": "stdout",
     "text": [
      "0.5404195002705844\n",
      "30.963756532073536\n"
     ]
    }
   ]
  },
  {
   "cell_type": "code",
   "source": [
    "x = np.array([[0, 0], x])\n",
    "y = np.array([[0, 0], y])"
   ],
   "metadata": {
    "id": "xJbjkV8Z8Vor"
   },
   "execution_count": null,
   "outputs": []
  },
  {
   "cell_type": "code",
   "source": [
    "plt.plot(x, y)"
   ],
   "metadata": {
    "colab": {
     "base_uri": "https://localhost:8080/",
     "height": 465
    },
    "id": "9qUaJdsa7C8T",
    "outputId": "b978171f-a446-4897-f2e7-4eb798bcbd47"
   },
   "execution_count": null,
   "outputs": [
    {
     "output_type": "execute_result",
     "data": {
      "text/plain": [
       "[<matplotlib.lines.Line2D at 0x782911847430>,\n",
       " <matplotlib.lines.Line2D at 0x782911847d60>]"
      ]
     },
     "metadata": {},
     "execution_count": 43
    },
    {
     "output_type": "display_data",
     "data": {
      "text/plain": [
       "<Figure size 640x480 with 1 Axes>"
      ],
      "image/png": "[encoded data removed]"
     },
     "metadata": {}
    }
   ]
  },
  {
   "cell_type": "code",
   "source": [
    " b1 = np.array([1, 0, 0])\n",
    " b2 = np.array([0, 1, 0])\n",
    " b3 = np.array([0, 0, 1])\n",
    " print(np.dot(b1, b2), np.dot(b2, b3), np.dot(b3, b1))\n",
    " print(L2_norm(b1), L2_norm(b2), L2_norm(b3))"
   ],
   "metadata": {
    "colab": {
     "base_uri": "https://localhost:8080/"
    },
    "id": "hORRRpx_8Dju",
    "outputId": "2c7ca3a1-15ad-407e-98cd-b54449b88834"
   },
   "execution_count": null,
   "outputs": [
    {
     "output_type": "stream",
     "name": "stdout",
     "text": [
      "0 0 0\n",
      "1.0 1.0 1.0\n"
     ]
    }
   ]
  },
  {
   "cell_type": "code",
   "source": [],
   "metadata": {
    "id": "ikbuOp-cCZIE"
   },
   "execution_count": null,
   "outputs": []
  }
 ]
}
