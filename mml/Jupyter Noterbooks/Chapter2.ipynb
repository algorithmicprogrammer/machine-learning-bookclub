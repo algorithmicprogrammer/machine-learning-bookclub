{
 "cells": [
  {
   "metadata": {},
   "cell_type": "markdown",
   "source": "# Chapter 2: Linear Algebra\n",
   "id": "9c7d56454574e128"
  },
  {
   "metadata": {
    "ExecuteTime": {
     "end_time": "2024-12-24T03:47:13.296155Z",
     "start_time": "2024-12-24T03:47:13.251612Z"
    }
   },
   "cell_type": "code",
   "source": "import numpy as np",
   "id": "bbd42fa654585917",
   "outputs": [],
   "execution_count": 1
  },
  {
   "metadata": {},
   "cell_type": "markdown",
   "source": "## Numpy Arrays",
   "id": "fff1951c650648a4"
  },
  {
   "metadata": {
    "ExecuteTime": {
     "end_time": "2024-12-24T03:47:13.311789Z",
     "start_time": "2024-12-24T03:47:13.309489Z"
    }
   },
   "cell_type": "code",
   "source": [
    "a = np.array([[1, 2, 3],\n",
    "              [4, 5, 6],\n",
    "              [7, 8, 9]])\n",
    "b = np.array([[4, 2, 7],\n",
    "              [6, 2, 1],\n",
    "              [-5, -2, -4]])\n",
    "c = np.array([[1, -1, 0],\n",
    "              [2, 2, 1],\n",
    "              [-4, -6, -1]])"
   ],
   "id": "791063b89b26d8d2",
   "outputs": [],
   "execution_count": 2
  },
  {
   "metadata": {},
   "cell_type": "markdown",
   "source": "## Matrix Multiplation Is Not Commutative",
   "id": "10195d483880df02"
  },
  {
   "metadata": {
    "ExecuteTime": {
     "end_time": "2024-12-24T03:47:13.421782Z",
     "start_time": "2024-12-24T03:47:13.419728Z"
    }
   },
   "cell_type": "code",
   "source": "print(\"a@b \\n\", np.matmul(a, b), \"b@c\\n\", np.matmul(b, c))",
   "id": "84f7dd6f14149784",
   "outputs": [
    {
     "name": "stdout",
     "output_type": "stream",
     "text": [
      "a@b \n",
      " [[ 1  0 -3]\n",
      " [16  6  9]\n",
      " [31 12 21]] b@c\n",
      " [[-20 -42  -5]\n",
      " [  6  -8   1]\n",
      " [  7  25   2]]\n"
     ]
    }
   ],
   "execution_count": 3
  },
  {
   "metadata": {},
   "cell_type": "markdown",
   "source": "## Matrix Multiplication Is Associative",
   "id": "ea90d865f211e12c"
  },
  {
   "metadata": {
    "ExecuteTime": {
     "end_time": "2024-12-24T03:47:13.468890Z",
     "start_time": "2024-12-24T03:47:13.466852Z"
    }
   },
   "cell_type": "code",
   "source": "print(\"(a@b)@c\\n\", (np.matmul(np.matmul(a, b), c)))",
   "id": "5788312ea57aa71b",
   "outputs": [
    {
     "name": "stdout",
     "output_type": "stream",
     "text": [
      "(a@b)@c\n",
      " [[  13   17    3]\n",
      " [  -8  -58   -3]\n",
      " [ -29 -133   -9]]\n"
     ]
    }
   ],
   "execution_count": 4
  },
  {
   "metadata": {
    "ExecuteTime": {
     "end_time": "2024-12-24T03:47:13.538979Z",
     "start_time": "2024-12-24T03:47:13.536423Z"
    }
   },
   "cell_type": "code",
   "source": "print(\"a@(b@c)\\n\", np.matmul(a, np.matmul(b, c)))",
   "id": "7797bddd2c927941",
   "outputs": [
    {
     "name": "stdout",
     "output_type": "stream",
     "text": [
      "a@(b@c)\n",
      " [[  13   17    3]\n",
      " [  -8  -58   -3]\n",
      " [ -29 -133   -9]]\n"
     ]
    }
   ],
   "execution_count": 5
  }
 ],
 "metadata": {
  "kernelspec": {
   "name": "python3",
   "language": "python",
   "display_name": "Python 3 (ipykernel)"
  }
 },
 "nbformat": 5,
 "nbformat_minor": 9
}
