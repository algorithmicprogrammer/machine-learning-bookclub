{
 "cells": [
  {
   "metadata": {},
   "cell_type": "markdown",
   "source": "# Chapter 2: Linear Algebra\n",
   "id": "9c7d56454574e128"
  },
  {
   "metadata": {
    "jupyter": {
     "is_executing": true
    }
   },
   "cell_type": "code",
   "source": "import numpy as np",
   "id": "bbd42fa654585917",
   "outputs": [],
   "execution_count": null
  },
  {
   "metadata": {
    "jupyter": {
     "is_executing": true
    }
   },
   "cell_type": "code",
   "source": [
    "a = np.array([[1, 2, 3],\n",
    "              [4, 5, 6],\n",
    "              [7, 8, 9]])\n",
    "b = np.array([[4, 2, 7],\n",
    "              [6, 2, 1],\n",
    "              [-5, -2, -4]])\n",
    "c = np.array([[1, -1, 0],\n",
    "              [2, 2, 1],\n",
    "              [-4, -6, -1]])"
   ],
   "id": "791063b89b26d8d2",
   "outputs": [],
   "execution_count": null
  },
  {
   "metadata": {},
   "cell_type": "markdown",
   "source": "## Matrix Multiplation Is Not Commutative",
   "id": "10195d483880df02"
  },
  {
   "metadata": {
    "jupyter": {
     "is_executing": true
    }
   },
   "cell_type": "code",
   "source": "print(\"a@b \\n\", np.matmul(a, b), \"b@c\\n\", np.matmul(b, c))",
   "id": "84f7dd6f14149784",
   "outputs": [],
   "execution_count": null
  },
  {
   "metadata": {},
   "cell_type": "markdown",
   "source": "## Matrix Multiplication Is Associative",
   "id": "ea90d865f211e12c"
  },
  {
   "metadata": {},
   "cell_type": "code",
   "outputs": [],
   "execution_count": null,
   "source": "print(\"(a@b)@c\\n\", (np.matmul(np.matmul(a, b), c)))",
   "id": "5788312ea57aa71b"
  },
  {
   "metadata": {},
   "cell_type": "code",
   "outputs": [],
   "execution_count": null,
   "source": "print(\"a@(b@c)\\n\", np.matmul(a, np.matmul(b, c)))",
   "id": "7797bddd2c927941"
  }
 ],
 "metadata": {},
 "nbformat": 5,
 "nbformat_minor": 9
}
